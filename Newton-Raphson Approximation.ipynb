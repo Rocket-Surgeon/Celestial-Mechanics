{
 "cells": [
  {
   "cell_type": "markdown",
   "metadata": {},
   "source": [
    "# Numerical Solution to the Kepler Equation\n",
    "\n",
    "Kepler's equation is given as:\n",
    "\n",
    "$$E - esin(E) = M$$\n",
    "\n",
    "If we were to solve this equation for M, this equation would be trivial; however, we typically know $M$ already from observation, and want to find $E = E(M)$.\n",
    "\n",
    "What makes Kepler's equation complicated is that is cannot be inverted, or we simply do not know how to invert it yet.\n",
    "\n",
    "While we cannot obtain an exact analytical solution to Kepler's equation, we can obtain numerical approximations. We will now approximate Kepler's equation using the Newton-Raphson method.\n",
    "\n",
    "$$E_{i+1} = E_{i} - \\frac{f(E_{i})}{f'(E_{i})}$$\n",
    "\n",
    "In order to evaluate Kepler's equation, we rewrite as:\n",
    "\n",
    "$$f(E) = E - esin(E) - M = 0$$\n",
    "\n",
    "Therefore, we can write $f'(E)$ as:\n",
    "\n",
    "$$f'(E) = \\frac{d}{dE}\\left(f(E)\\right) = \\frac{d}{dE}\\left(E - esin(E) - M\\right) = 1 - ecos(E)$$\n",
    "\n",
    "Substituting our function and its derivative into the Newton-Raphson approximation gives:\n",
    "\n",
    "$$E_{i+1} = E_{i} - \\frac{E_{i} - esin(E_{i}) - M}{1 - ecos(E_{i})}$$\n",
    "\n",
    "When approximating Kepler's equation through a series expansion, we take the zeroth order approximation to be $E_{0} = M$. In this numerical technique that is not the best choice. Instead, we take the zeroth order approximation to be:\n",
    "\n",
    "$$E_{0} = M + kesin(M)$$\n",
    "\n",
    "Where $k = 0.85$. This approximation, and value for k are determined by J.M.A Danby, and outlined in his book \"Celestial Mechanics\".\n",
    "\n",
    "In our particular case, we will take the mean anomaly to be $M = 0.4$ $rad$, and the eccentricity to be $e = 0.25$. We will approximate Kepler's equation to the precision of four decimal places."
   ]
  },
  {
   "cell_type": "code",
   "execution_count": 1,
   "metadata": {
    "collapsed": true
   },
   "outputs": [],
   "source": [
    "import numpy as np"
   ]
  },
  {
   "cell_type": "code",
   "execution_count": 2,
   "metadata": {
    "collapsed": true
   },
   "outputs": [],
   "source": [
    "M = 0.4\n",
    "e = 0.25\n",
    "k = 0.85\n",
    "epsilon = 1e-4\n",
    "\n",
    "E0 = M + e*k*(np.sin(M))"
   ]
  },
  {
   "cell_type": "markdown",
   "metadata": {},
   "source": [
    "This is the function $f(x)$ to be evaluated by the Newton-Raphson method."
   ]
  },
  {
   "cell_type": "code",
   "execution_count": 3,
   "metadata": {
    "collapsed": true
   },
   "outputs": [],
   "source": [
    "def f(x):                           \n",
    "    return x - e*np.sin(x) - M"
   ]
  },
  {
   "cell_type": "markdown",
   "metadata": {},
   "source": [
    "This is the function $f'(x)$ to be evaluated by the Newton-Raphson method."
   ]
  },
  {
   "cell_type": "code",
   "execution_count": 4,
   "metadata": {
    "collapsed": true
   },
   "outputs": [],
   "source": [
    "def df(x):\n",
    "    return 1 - e*np.cos(x)"
   ]
  },
  {
   "cell_type": "markdown",
   "metadata": {},
   "source": [
    "Now, we establish the function to perform the Newton-Raphson approximation."
   ]
  },
  {
   "cell_type": "code",
   "execution_count": 5,
   "metadata": {
    "collapsed": true
   },
   "outputs": [],
   "source": [
    "def Kepler(f, df, E0, epsilon, NMAX):\n",
    "    \"\"\"    \n",
    "    \n",
    "    Determines the eccentric anomaly as a function of the \n",
    "    mean anomaly M.\n",
    "    \n",
    "    Parameters\n",
    "    ----------       \n",
    "    f: scalar\n",
    "        The function f(x) to be evaluated by the Newton-Raphson method.\n",
    "    df: scalar\n",
    "        The derivative of f(x).\n",
    "    E0: scalar\n",
    "        The zeroth order approximation of Kepler's equation.\n",
    "    epsilon: scalar\n",
    "        The tolerance of the approximation.\n",
    "    NMAX: scalar\n",
    "        Maximum number of iterations.\n",
    "          \n",
    "    Returns\n",
    "    -------\n",
    "    E: scalar\n",
    "        The approximated value of the eccentric anomaly.\n",
    "    n: integer\n",
    "        Number of iterations until tolerance is reached.    \n",
    "    \n",
    "    \"\"\"\n",
    "    n = 1\n",
    "    while n <= NMAX:\n",
    "        E1 = E0 - (f(E0))/df(E0)\n",
    "        if abs(E1 - E0) < epsilon:\n",
    "            return E1, n\n",
    "        else:\n",
    "            E0 = E1\n",
    "            n += 1\n",
    "    return False"
   ]
  },
  {
   "cell_type": "code",
   "execution_count": 6,
   "metadata": {
    "collapsed": false
   },
   "outputs": [
    {
     "data": {
      "text/plain": [
       "(0.52538695135293201, 3)"
      ]
     },
     "execution_count": 6,
     "metadata": {},
     "output_type": "execute_result"
    }
   ],
   "source": [
    "Kepler(f, df, E0, epsilon, 10)"
   ]
  },
  {
   "cell_type": "markdown",
   "metadata": {},
   "source": [
    "The approximation outlined by Danby in his book yields a result of:\n",
    "\n",
    "$$E = 0.5253$$\n",
    "\n",
    "The approximation was achieved to a precision of four decimal places in 3 iterations."
   ]
  }
 ],
 "metadata": {
  "kernelspec": {
   "display_name": "Python 3",
   "language": "python",
   "name": "python3"
  },
  "language_info": {
   "codemirror_mode": {
    "name": "ipython",
    "version": 3
   },
   "file_extension": ".py",
   "mimetype": "text/x-python",
   "name": "python",
   "nbconvert_exporter": "python",
   "pygments_lexer": "ipython3",
   "version": "3.5.1"
  }
 },
 "nbformat": 4,
 "nbformat_minor": 0
}
