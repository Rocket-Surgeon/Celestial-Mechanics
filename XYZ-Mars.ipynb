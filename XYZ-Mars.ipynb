{
 "cells": [
  {
   "cell_type": "code",
   "execution_count": 4,
   "metadata": {
    "collapsed": false
   },
   "outputs": [],
   "source": [
    "import numpy as np"
   ]
  },
  {
   "cell_type": "code",
   "execution_count": 5,
   "metadata": {
    "collapsed": true
   },
   "outputs": [],
   "source": [
    "a_0 = 1.52366231\n",
    "da_0 = -7221.0\n",
    "e_0 = 0.09341233\n",
    "de_0 = 11902.0\n",
    "t = 0.16"
   ]
  },
  {
   "cell_type": "code",
   "execution_count": 6,
   "metadata": {
    "collapsed": false
   },
   "outputs": [
    {
     "data": {
      "text/plain": [
       "(1.5236507564, 0.0934313732)"
      ]
     },
     "execution_count": 6,
     "metadata": {},
     "output_type": "execute_result"
    }
   ],
   "source": [
    "a = a_0 + da_0 * t * 1e-8\n",
    "e = e_0 + de_0 * t * 1e-8\n",
    "\n",
    "a, e"
   ]
  },
  {
   "cell_type": "code",
   "execution_count": 7,
   "metadata": {
    "collapsed": true
   },
   "outputs": [],
   "source": [
    "l_0 = 355.45332\n",
    "dl_0 = 217103.78\n",
    "N_r = 53.0\n",
    "w_0 = 336.04084\n",
    "dw_0 = 1560.78"
   ]
  },
  {
   "cell_type": "code",
   "execution_count": 8,
   "metadata": {
    "collapsed": false
   },
   "outputs": [
    {
     "data": {
      "text/plain": [
       "(355.4533506244906, 336.04084000069366)"
      ]
     },
     "execution_count": 8,
     "metadata": {},
     "output_type": "execute_result"
    }
   ],
   "source": [
    "l = l_0 + ((dl_0/3600.0) + 360.0*N_r)*t*1e-8\n",
    "w = w_0 + (dw_0/3600.0)*t*1e-8\n",
    "\n",
    "l, w"
   ]
  },
  {
   "cell_type": "code",
   "execution_count": 9,
   "metadata": {
    "collapsed": false
   },
   "outputs": [
    {
     "data": {
      "text/plain": [
       "19.412510623796948"
      ]
     },
     "execution_count": 9,
     "metadata": {},
     "output_type": "execute_result"
    }
   ],
   "source": [
    "M = l - w\n",
    "\n",
    "M"
   ]
  },
  {
   "cell_type": "code",
   "execution_count": 10,
   "metadata": {
    "collapsed": false
   },
   "outputs": [
    {
     "data": {
      "text/plain": [
       "19.45489428749638"
      ]
     },
     "execution_count": 10,
     "metadata": {},
     "output_type": "execute_result"
    }
   ],
   "source": [
    "k = 0.85\n",
    "epsilon = 1e-8\n",
    "\n",
    "E0 = M + e*k*(np.sin(M))\n",
    "\n",
    "E0"
   ]
  },
  {
   "cell_type": "code",
   "execution_count": 11,
   "metadata": {
    "collapsed": true
   },
   "outputs": [],
   "source": [
    "def f(x):                           # Our function f(x) to evaluate\n",
    "    return x - e*np.sin(x) - M\n",
    "\n",
    "def df(x):\n",
    "    return 1 - e*np.cos(x)          # Derivative of f(x)\n",
    "\n",
    "def Kepler(f, df, E0, epsilon, NMAX):\n",
    "    \"\"\"    \n",
    "    \n",
    "    Determines the eccentric anomaly as a function of the \n",
    "    mean anomaly M.\n",
    "    \n",
    "    Parameters\n",
    "    ----------       \n",
    "    f: scalar\n",
    "        The function f(x) to be evaluated by the Newton-Raphson method.\n",
    "    df: scalar\n",
    "        The derivative of f(x).\n",
    "    E0: scalar\n",
    "        The zeroth order approximation of Kepler's equation.\n",
    "    epsilon: scalar\n",
    "        The tolerance of the approximation.\n",
    "    NMAX: scalar\n",
    "        Maximum number of iterations.\n",
    "          \n",
    "    Returns\n",
    "    -------\n",
    "    E: scalar\n",
    "        The approximated value of the eccentric anomaly.\n",
    "    n: integer\n",
    "        Number of iterations until tolerance is reached.    \n",
    "    \n",
    "    \"\"\"\n",
    "    n = 1\n",
    "    while n <= NMAX:\n",
    "        E1 = E0 - (f(E0))/df(E0)\n",
    "        if abs(E1 - E0) < epsilon:\n",
    "            return E1\n",
    "        else:\n",
    "            E0 = E1\n",
    "            n += 1\n",
    "    return False"
   ]
  },
  {
   "cell_type": "code",
   "execution_count": 12,
   "metadata": {
    "collapsed": false
   },
   "outputs": [
    {
     "data": {
      "text/plain": [
       "19.466570260082342"
      ]
     },
     "execution_count": 12,
     "metadata": {},
     "output_type": "execute_result"
    }
   ],
   "source": [
    "Kepler(f, df, E0, epsilon, 10)"
   ]
  },
  {
   "cell_type": "code",
   "execution_count": 25,
   "metadata": {
    "collapsed": false
   },
   "outputs": [
    {
     "data": {
      "text/plain": [
       "array([[ 1.1003474 ],\n",
       "       [ 0.87773199],\n",
       "       [ 0.        ]])"
      ]
     },
     "execution_count": 25,
     "metadata": {},
     "output_type": "execute_result"
    }
   ],
   "source": [
    "x = a*(np.cos(Kepler(f, df, E0, epsilon, 10)) - e)\n",
    "y = a*np.sqrt(1 - e**2)*np.sin(Kepler(f, df, E0, epsilon, 10))\n",
    "z = 0\n",
    "r = np.array([[x], [y], [z]])\n",
    "\n",
    "r"
   ]
  },
  {
   "cell_type": "code",
   "execution_count": 14,
   "metadata": {
    "collapsed": false
   },
   "outputs": [
    {
     "data": {
      "text/plain": [
       "49.57853999954658"
      ]
     },
     "execution_count": 14,
     "metadata": {},
     "output_type": "execute_result"
    }
   ],
   "source": [
    "W_0 = 49.57854\n",
    "dW_0 = -1020.19\n",
    "\n",
    "W = W_0 + (dW_0/3600.0)*t*1e-8\n",
    "\n",
    "W"
   ]
  },
  {
   "cell_type": "code",
   "execution_count": 15,
   "metadata": {
    "collapsed": false
   },
   "outputs": [
    {
     "data": {
      "text/plain": [
       "1.85060999998868"
      ]
     },
     "execution_count": 15,
     "metadata": {},
     "output_type": "execute_result"
    }
   ],
   "source": [
    "I_0 = 1.85061\n",
    "dI_0 = -25.47\n",
    "\n",
    "I = I_0 + (dI_0/3600.0)*t*1e-8\n",
    "\n",
    "I"
   ]
  },
  {
   "cell_type": "code",
   "execution_count": 17,
   "metadata": {
    "collapsed": false
   },
   "outputs": [
    {
     "data": {
      "text/plain": [
       "(array([[-0.99400278,  0.1093548 ,  0.        ],\n",
       "        [-0.1093548 , -0.99400278,  0.        ],\n",
       "        [ 0.        ,  0.        ,  1.        ]]),\n",
       " array([[ 1.        ,  0.        ,  0.        ],\n",
       "        [ 0.        , -0.27617657,  0.96110691],\n",
       "        [ 0.        , -0.96110691, -0.27617657]]),\n",
       " array([[ 0.77318865, -0.63417609,  0.        ],\n",
       "        [ 0.63417609,  0.77318865,  0.        ],\n",
       "        [ 0.        ,  0.        ,  1.        ]]))"
      ]
     },
     "execution_count": 17,
     "metadata": {},
     "output_type": "execute_result"
    }
   ],
   "source": [
    "P_1 = np.array([[np.cos(w), np.sin(w), 0], [-np.sin(w), np.cos(w), 0], [0, 0, 1]])\n",
    "P_2 = np.array([[1, 0, 0], [0, np.cos(I), np.sin(I)], [0, -np.sin(I), np.cos(I)]])\n",
    "P_3 = np.array([[np.cos(W), np.sin(W), 0], [-np.sin(W), np.cos(W), 0], [0, 0, 1]])\n",
    "\n",
    "P_1, P_2, P_3"
   ]
  },
  {
   "cell_type": "code",
   "execution_count": 23,
   "metadata": {
    "collapsed": false
   },
   "outputs": [
    {
     "data": {
      "text/plain": [
       "array([[-0.78770456,  0.60702155,  0.10510165],\n",
       "       [ 0.08954231,  0.28160616, -0.95534295],\n",
       "       [-0.60951103, -0.74311695, -0.27617657]])"
      ]
     },
     "execution_count": 23,
     "metadata": {},
     "output_type": "execute_result"
    }
   ],
   "source": [
    "P = np.matmul(P_1, np.matmul(P_2, P_3))\n",
    "\n",
    "P"
   ]
  },
  {
   "cell_type": "code",
   "execution_count": 26,
   "metadata": {
    "collapsed": false
   },
   "outputs": [
    {
     "data": {
      "text/plain": [
       "array([[-0.33394644],\n",
       "       [ 0.34570239],\n",
       "       [-1.3229314 ]])"
      ]
     },
     "execution_count": 26,
     "metadata": {},
     "output_type": "execute_result"
    }
   ],
   "source": [
    "np.matmul(P, r)"
   ]
  },
  {
   "cell_type": "code",
   "execution_count": null,
   "metadata": {
    "collapsed": true
   },
   "outputs": [],
   "source": []
  }
 ],
 "metadata": {
  "kernelspec": {
   "display_name": "Python 3",
   "language": "python",
   "name": "python3"
  },
  "language_info": {
   "codemirror_mode": {
    "name": "ipython",
    "version": 3
   },
   "file_extension": ".py",
   "mimetype": "text/x-python",
   "name": "python",
   "nbconvert_exporter": "python",
   "pygments_lexer": "ipython3",
   "version": "3.5.1"
  }
 },
 "nbformat": 4,
 "nbformat_minor": 0
}
